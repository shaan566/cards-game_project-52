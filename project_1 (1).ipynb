{
 "cells": [
  {
   "cell_type": "code",
   "execution_count": 61,
   "id": "717a01b6-ab9c-4578-aad0-e49de4330c02",
   "metadata": {},
   "outputs": [],
   "source": [
    "import random\n",
    "\n",
    "# Initial Setup\n",
    "def initialize_game():\n",
    "    \n",
    "    card_list = [\n",
    "        \"♣-2\", \"♣-3\", \"♣-4\", \"♣-5\", \"♣-6\", \"♣-7\", \"♣-8\", \"♣-9\", \"♣-10\", \"♣-J\", \"♣-Q\", \"♣-K\", \"♣-A\",\n",
    "        \"♦-2\", \"♦-3\", \"♦-4\", \"♦-5\", \"♦-6\", \"♦-7\", \"♦-8\", \"♦-9\", \"♦-10\", \"♦-J\", \"♦-Q\", \"♦-K\", \"♦-A\",\n",
    "        \"♥-2\", \"♥-3\", \"♥-4\", \"♥-5\", \"♥-6\", \"♥-7\", \"♥-8\", \"♥-9\", \"♥-10\", \"♥-J\", \"♥-Q\", \"♥-K\", \"♥-A\",\n",
    "        \"♠-2\", \"♠-3\", \"♠-4\", \"♠-5\", \"♠-6\", \"♠-7\", \"♠-8\", \"♠-9\", \"♠-10\", \"♠-J\", \"♠-Q\", \"♠-K\", \"♠-A\"\n",
    "    ]\n",
    "\n",
    "    \n",
    "    random.shuffle(card_list)\n",
    "\n",
    "    \n",
    "    return card_list[:13], card_list[13:26], card_list[26:39], card_list[39:52]\n"
   ]
  },
  {
   "cell_type": "code",
   "execution_count": 63,
   "id": "6f5e81ab-0eda-477a-b2e0-439ebb9ea0d1",
   "metadata": {},
   "outputs": [],
   "source": [
    "def display_cards(player, player1, player2, player3, player4):\n",
    "    \n",
    "    \n",
    "    if player == 1:\n",
    "        print(\"Player 1's Cards:\", player1)\n",
    "    elif player == 2:\n",
    "        print(\"Player 2's Cards:\", player2)\n",
    "    elif player == 3:\n",
    "        print(\"Player 3's Cards:\", player3)\n",
    "    elif player == 4:\n",
    "        print(\"Player 4's Cards:\", player4)\n",
    "    elif player == 1771:\n",
    "        print(\"Player 1's Cards:\", player1)\n",
    "        print(\"Player 2's Cards:\", player2)\n",
    "        print(\"Player 3's Cards:\", player3)\n",
    "        print(\"Player 4's Cards:\", player4)\n",
    "    else:\n",
    "        print(\"Please enter a valid number.\")\n"
   ]
  },
  {
   "cell_type": "code",
   "execution_count": 71,
   "id": "489cbcee-3462-49b4-a3bf-4a0fb76f80d3",
   "metadata": {},
   "outputs": [],
   "source": [
    "def find_winner(listofcards, suit):\n",
    "    \n",
    "    card_ranks = ['2', '3', '4', '5', '6', '7', '8', '9', '10', 'J', 'Q', 'K', 'A']\n",
    "    suit_cards = [(index, card) for index, card in enumerate(listofcards) if card.startswith(suit)]\n",
    "    \n",
    "    if not suit_cards:\n",
    "        print(f\"No cards of suit {suit} were found.\")\n",
    "        return None\n",
    "    \n",
    "    highest_card = max(suit_cards, key=lambda x: card_ranks.index(x[1].split('-')[1]))\n",
    "    index_m = highest_card[0]\n",
    "    \n",
    "    print(f\"Player {index_m + 1} wins with {highest_card[1]}\")\n",
    "    return index_m"
   ]
  },
  {
   "cell_type": "code",
   "execution_count": null,
   "id": "fa7b58fc-86c4-44be-b779-a10a39dca494",
   "metadata": {},
   "outputs": [
    {
     "name": "stdout",
     "output_type": "stream",
     "text": [
      "Welcome to the Card Game!\n",
      "Suits Available: Clubs ♣, Diamonds ♦, Hearts ♥, Spades ♠\n"
     ]
    }
   ],
   "source": [
    "def start_game():\n",
    "    print(\"Welcome to the Card Game!\")\n",
    "    print(\"Suits Available: Clubs ♣, Diamonds ♦, Hearts ♥, Spades ♠\")\n",
    "    \n",
    "    player1, player2, player3, player4 = initialize_game()\n",
    "    \n",
    "    while player1:  # Continue the game until Player 1 runs out of cards\n",
    "        player = int(input(\"Enter the value 1-4 to show the cards, or 1771 to show all players' cards: \"))\n",
    "        display_cards(player, player1, player2, player3, player4)\n",
    "        \n",
    "        # Players choose their cards\n",
    "        choice1 = int(input(\"Player 1, choose a card by entering its index (0-12): \"))\n",
    "        choice2 = int(input(\"Player 2, choose a card by entering its index (0-12): \"))\n",
    "        choice3 = int(input(\"Player 3, choose a card by entering its index (0-12): \"))\n",
    "        choice4 = int(input(\"Player 4, choose a card by entering its index (0-12): \"))\n",
    "        \n",
    "        listofcards = [player1.pop(choice1), player2.pop(choice2), player3.pop(choice3), player4.pop(choice4)]\n",
    "        \n",
    "        suit = listofcards[0][0]  # Assuming the suit of the first selected card is the lead suit\n",
    "        find_winner(listofcards, suit)\n",
    "        \n",
    "        print(\"Remaining cards:\")\n",
    "        display_cards(1771, player1, player2, player3, player4)\n",
    "    \n",
    "    print(\"Game over! Player 1 has no more cards.\")\n",
    "\n",
    "# Start the game\n",
    "start_game()\n"
   ]
  },
  {
   "cell_type": "code",
   "execution_count": 95,
   "id": "9b2fbe53-2d19-4444-a736-a7606c9dac8e",
   "metadata": {},
   "outputs": [
    {
     "name": "stdout",
     "output_type": "stream",
     "text": [
      "Player 1 wins with ♣-A\n",
      "Player 2 wins with ♠-K\n",
      "Player 3 wins with ♥-Q\n",
      "Player 4 wins with ♦-J\n"
     ]
    }
   ],
   "source": []
  },
  {
   "cell_type": "code",
   "execution_count": null,
   "id": "ea55dd9f-dad2-442d-8d4e-1b613f0850e8",
   "metadata": {},
   "outputs": [],
   "source": []
  }
 ],
 "metadata": {
  "kernelspec": {
   "display_name": "Python 3 (ipykernel)",
   "language": "python",
   "name": "python3"
  },
  "language_info": {
   "codemirror_mode": {
    "name": "ipython",
    "version": 3
   },
   "file_extension": ".py",
   "mimetype": "text/x-python",
   "name": "python",
   "nbconvert_exporter": "python",
   "pygments_lexer": "ipython3",
   "version": "3.12.4"
  }
 },
 "nbformat": 4,
 "nbformat_minor": 5
}
